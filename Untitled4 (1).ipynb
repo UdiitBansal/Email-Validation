{
 "cells": [
  {
   "cell_type": "code",
   "execution_count": 28,
   "id": "8fbd753f-734d-4931-a697-0b7923c16bc3",
   "metadata": {},
   "outputs": [
    {
     "name": "stdout",
     "output_type": "stream",
     "text": [
      "Hey I am Udiit Bansal \n",
      "This is my Projects \n"
     ]
    }
   ],
   "source": [
    "print(\"Hey I am Udiit Bansal \" )\n",
    "print(\"This is my Projects \")\n"
   ]
  },
  {
   "cell_type": "code",
   "execution_count": null,
   "id": "c0761875-a10e-4d3c-97cb-f7eb3b2f4db3",
   "metadata": {},
   "outputs": [
    {
     "name": "stdout",
     "output_type": "stream",
     "text": [
      "Email Validtion \n"
     ]
    }
   ],
   "source": [
    "print(\"Email Validtion \")\n",
    "\n",
    "\n",
    "\n",
    "email=input(\"Enter your Email:\")\n",
    "k,j,d=0,0,0\n",
    "if len(email)>=6:\n",
    "    if email[0].isalpha(): #2\n",
    "        if (\"@\"in email) and (email.count(\"@\")==1): #3\n",
    "            if(email[-4]==\".\")^(email[-3]==\".\"): #4\n",
    "                for i in email:\n",
    "                    if i==i.isspace(): #5\n",
    "                        k=1\n",
    "                    elif i.isalpha():\n",
    "                        if i==i.upper(): #5\n",
    "                            j=1\n",
    "                    elif i.isdigit():\n",
    "                        continue\n",
    "                    elif i==\"_\" or i==\".\" or i==\"@\":\n",
    "                        continue\n",
    "                    else:\n",
    "                        d=1\n",
    "                        \n",
    "                if k==1 or j==1 or d==1:\n",
    "                        print(\"wrong email 5\")\n",
    "                else:\n",
    "                    print(\"Right Email\")\n",
    "            else:\n",
    "                print(\"wrong email 4\")\n",
    "        else:\n",
    "            print(\"wrong email 3\")\n",
    "    else:\n",
    "        print(\"wrong Email 2\")\n",
    "        \n",
    "else:\n",
    "    print(\"wrong Email 1\")\n",
    "    "
   ]
  },
  {
   "cell_type": "code",
   "execution_count": null,
   "id": "5825f788-180c-42cf-9138-28a5534ccf12",
   "metadata": {},
   "outputs": [],
   "source": []
  }
 ],
 "metadata": {
  "kernelspec": {
   "display_name": "Python 3 (ipykernel)",
   "language": "python",
   "name": "python3"
  },
  "language_info": {
   "codemirror_mode": {
    "name": "ipython",
    "version": 3
   },
   "file_extension": ".py",
   "mimetype": "text/x-python",
   "name": "python",
   "nbconvert_exporter": "python",
   "pygments_lexer": "ipython3",
   "version": "3.12.4"
  }
 },
 "nbformat": 4,
 "nbformat_minor": 5
}
